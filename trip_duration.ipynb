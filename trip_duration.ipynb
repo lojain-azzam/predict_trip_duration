{
 "cells": [
  {
   "cell_type": "code",
   "execution_count": 60,
   "id": "fdf1f8f4",
   "metadata": {},
   "outputs": [
    {
     "data": {
      "text/html": [
       "<div>\n",
       "<style scoped>\n",
       "    .dataframe tbody tr th:only-of-type {\n",
       "        vertical-align: middle;\n",
       "    }\n",
       "\n",
       "    .dataframe tbody tr th {\n",
       "        vertical-align: top;\n",
       "    }\n",
       "\n",
       "    .dataframe thead th {\n",
       "        text-align: right;\n",
       "    }\n",
       "</style>\n",
       "<table border=\"1\" class=\"dataframe\">\n",
       "  <thead>\n",
       "    <tr style=\"text-align: right;\">\n",
       "      <th></th>\n",
       "      <th>hvfhs_license_num</th>\n",
       "      <th>dispatching_base_num</th>\n",
       "      <th>pickup_datetime</th>\n",
       "      <th>dropoff_datetime</th>\n",
       "      <th>PULocationID</th>\n",
       "      <th>DOLocationID</th>\n",
       "      <th>SR_Flag</th>\n",
       "    </tr>\n",
       "  </thead>\n",
       "  <tbody>\n",
       "    <tr>\n",
       "      <th>0</th>\n",
       "      <td>HV0005</td>\n",
       "      <td>B02510</td>\n",
       "      <td>02/12/2019 11:10:30 AM</td>\n",
       "      <td>02/12/2019 11:19:14 AM</td>\n",
       "      <td>80</td>\n",
       "      <td>112</td>\n",
       "      <td>NaN</td>\n",
       "    </tr>\n",
       "    <tr>\n",
       "      <th>1</th>\n",
       "      <td>HV0005</td>\n",
       "      <td>B02510</td>\n",
       "      <td>02/12/2019 11:35:27 AM</td>\n",
       "      <td>02/12/2019 11:54:29 AM</td>\n",
       "      <td>256</td>\n",
       "      <td>125</td>\n",
       "      <td>NaN</td>\n",
       "    </tr>\n",
       "    <tr>\n",
       "      <th>2</th>\n",
       "      <td>HV0003</td>\n",
       "      <td>B02867</td>\n",
       "      <td>02/12/2019 11:03:14 AM</td>\n",
       "      <td>02/12/2019 11:21:04 AM</td>\n",
       "      <td>210</td>\n",
       "      <td>155</td>\n",
       "      <td>1.0</td>\n",
       "    </tr>\n",
       "    <tr>\n",
       "      <th>3</th>\n",
       "      <td>HV0003</td>\n",
       "      <td>B02867</td>\n",
       "      <td>02/12/2019 11:12:12 AM</td>\n",
       "      <td>02/12/2019 11:24:40 AM</td>\n",
       "      <td>155</td>\n",
       "      <td>155</td>\n",
       "      <td>1.0</td>\n",
       "    </tr>\n",
       "    <tr>\n",
       "      <th>4</th>\n",
       "      <td>HV0003</td>\n",
       "      <td>B02867</td>\n",
       "      <td>02/12/2019 11:50:05 AM</td>\n",
       "      <td>02/12/2019 11:59:14 AM</td>\n",
       "      <td>155</td>\n",
       "      <td>91</td>\n",
       "      <td>NaN</td>\n",
       "    </tr>\n",
       "  </tbody>\n",
       "</table>\n",
       "</div>"
      ],
      "text/plain": [
       "  hvfhs_license_num dispatching_base_num         pickup_datetime  \\\n",
       "0            HV0005               B02510  02/12/2019 11:10:30 AM   \n",
       "1            HV0005               B02510  02/12/2019 11:35:27 AM   \n",
       "2            HV0003               B02867  02/12/2019 11:03:14 AM   \n",
       "3            HV0003               B02867  02/12/2019 11:12:12 AM   \n",
       "4            HV0003               B02867  02/12/2019 11:50:05 AM   \n",
       "\n",
       "         dropoff_datetime  PULocationID  DOLocationID  SR_Flag  \n",
       "0  02/12/2019 11:19:14 AM            80           112      NaN  \n",
       "1  02/12/2019 11:54:29 AM           256           125      NaN  \n",
       "2  02/12/2019 11:21:04 AM           210           155      1.0  \n",
       "3  02/12/2019 11:24:40 AM           155           155      1.0  \n",
       "4  02/12/2019 11:59:14 AM           155            91      NaN  "
      ]
     },
     "execution_count": 60,
     "metadata": {},
     "output_type": "execute_result"
    }
   ],
   "source": [
    "import pandas as pd\n",
    "import numpy as np\n",
    "import datetime\n",
    "from scipy import stats\n",
    "from scipy.stats import t\n",
    "\n",
    "\n",
    "file_path = 'sample.csv' # to use it in generate_predictions function\n",
    "\n",
    "dataframe = pd.read_csv('sample.csv')\n",
    "\n",
    "dataframe.head()"
   ]
  },
  {
   "cell_type": "code",
   "execution_count": 50,
   "id": "7e794f7c",
   "metadata": {},
   "outputs": [
    {
     "data": {
      "text/plain": [
       "(200000, 7)"
      ]
     },
     "execution_count": 50,
     "metadata": {},
     "output_type": "execute_result"
    }
   ],
   "source": [
    "dataframe.shape"
   ]
  },
  {
   "cell_type": "markdown",
   "id": "834070f3",
   "metadata": {},
   "source": [
    "### compute_trip_duration : Function to compute trip duration and add it to the dataframe"
   ]
  },
  {
   "cell_type": "code",
   "execution_count": 51,
   "id": "54330922",
   "metadata": {},
   "outputs": [],
   "source": [
    "def compute_trip_duration(dataframe):\n",
    "    dataframe['pickup_datetime'] = pd.to_datetime(dataframe['pickup_datetime'])\n",
    "    dataframe['dropoff_datetime'] = pd.to_datetime(dataframe['dropoff_datetime'])\n",
    "    #difference between pickup_datetime Column  and dropoff_datetime Column to find trip_duration Column.\n",
    "    dataframe['trip_duration'] = ((dataframe['dropoff_datetime'] - dataframe['pickup_datetime']).dt.total_seconds() / 60)   \n",
    "    return dataframe\n",
    "\n",
    "#and I've divided the total seconds by 60 to convert it to minutes."
   ]
  },
  {
   "cell_type": "code",
   "execution_count": 52,
   "id": "0ec4a593",
   "metadata": {},
   "outputs": [
    {
     "data": {
      "text/html": [
       "<div>\n",
       "<style scoped>\n",
       "    .dataframe tbody tr th:only-of-type {\n",
       "        vertical-align: middle;\n",
       "    }\n",
       "\n",
       "    .dataframe tbody tr th {\n",
       "        vertical-align: top;\n",
       "    }\n",
       "\n",
       "    .dataframe thead th {\n",
       "        text-align: right;\n",
       "    }\n",
       "</style>\n",
       "<table border=\"1\" class=\"dataframe\">\n",
       "  <thead>\n",
       "    <tr style=\"text-align: right;\">\n",
       "      <th></th>\n",
       "      <th>hvfhs_license_num</th>\n",
       "      <th>dispatching_base_num</th>\n",
       "      <th>pickup_datetime</th>\n",
       "      <th>dropoff_datetime</th>\n",
       "      <th>PULocationID</th>\n",
       "      <th>DOLocationID</th>\n",
       "      <th>SR_Flag</th>\n",
       "      <th>trip_duration</th>\n",
       "    </tr>\n",
       "  </thead>\n",
       "  <tbody>\n",
       "    <tr>\n",
       "      <th>0</th>\n",
       "      <td>HV0005</td>\n",
       "      <td>B02510</td>\n",
       "      <td>2019-02-12 11:10:30</td>\n",
       "      <td>2019-02-12 11:19:14</td>\n",
       "      <td>80</td>\n",
       "      <td>112</td>\n",
       "      <td>NaN</td>\n",
       "      <td>8.733333</td>\n",
       "    </tr>\n",
       "    <tr>\n",
       "      <th>1</th>\n",
       "      <td>HV0005</td>\n",
       "      <td>B02510</td>\n",
       "      <td>2019-02-12 11:35:27</td>\n",
       "      <td>2019-02-12 11:54:29</td>\n",
       "      <td>256</td>\n",
       "      <td>125</td>\n",
       "      <td>NaN</td>\n",
       "      <td>19.033333</td>\n",
       "    </tr>\n",
       "  </tbody>\n",
       "</table>\n",
       "</div>"
      ],
      "text/plain": [
       "  hvfhs_license_num dispatching_base_num     pickup_datetime  \\\n",
       "0            HV0005               B02510 2019-02-12 11:10:30   \n",
       "1            HV0005               B02510 2019-02-12 11:35:27   \n",
       "\n",
       "     dropoff_datetime  PULocationID  DOLocationID  SR_Flag  trip_duration  \n",
       "0 2019-02-12 11:19:14            80           112      NaN       8.733333  \n",
       "1 2019-02-12 11:54:29           256           125      NaN      19.033333  "
      ]
     },
     "execution_count": 52,
     "metadata": {},
     "output_type": "execute_result"
    }
   ],
   "source": [
    "compute_trip_duration(dataframe)\n",
    "\n",
    "dataframe.head(2)"
   ]
  },
  {
   "cell_type": "code",
   "execution_count": 53,
   "id": "d088cef3",
   "metadata": {},
   "outputs": [
    {
     "data": {
      "text/plain": [
       "(200000, 8)"
      ]
     },
     "execution_count": 53,
     "metadata": {},
     "output_type": "execute_result"
    }
   ],
   "source": [
    "#new one Column \n",
    "dataframe.shape"
   ]
  },
  {
   "cell_type": "markdown",
   "id": "5cd4ec78",
   "metadata": {},
   "source": [
    "### time_features : Function to add hour of the day and day of the week to the dataframe"
   ]
  },
  {
   "cell_type": "code",
   "execution_count": 54,
   "id": "2cd82831",
   "metadata": {},
   "outputs": [],
   "source": [
    "def time_features(dataframe):\n",
    "    dataframe['pickup_datetime'] = pd.to_datetime(dataframe['pickup_datetime'])\n",
    "    \n",
    "    #new column containing integers representing the hour of the day(by using .dt.hour).\n",
    "    dataframe['hour'] = dataframe['pickup_datetime'].dt.hour\n",
    "    \n",
    "    #new column containing integers representing the day of the week(by using .dt.dayofweek).\n",
    "    dataframe['day_of_week'] = dataframe['pickup_datetime'].dt.dayofweek\n",
    "    return dataframe"
   ]
  },
  {
   "cell_type": "code",
   "execution_count": 55,
   "id": "56d69c1c",
   "metadata": {},
   "outputs": [
    {
     "data": {
      "text/html": [
       "<div>\n",
       "<style scoped>\n",
       "    .dataframe tbody tr th:only-of-type {\n",
       "        vertical-align: middle;\n",
       "    }\n",
       "\n",
       "    .dataframe tbody tr th {\n",
       "        vertical-align: top;\n",
       "    }\n",
       "\n",
       "    .dataframe thead th {\n",
       "        text-align: right;\n",
       "    }\n",
       "</style>\n",
       "<table border=\"1\" class=\"dataframe\">\n",
       "  <thead>\n",
       "    <tr style=\"text-align: right;\">\n",
       "      <th></th>\n",
       "      <th>hvfhs_license_num</th>\n",
       "      <th>dispatching_base_num</th>\n",
       "      <th>pickup_datetime</th>\n",
       "      <th>dropoff_datetime</th>\n",
       "      <th>PULocationID</th>\n",
       "      <th>DOLocationID</th>\n",
       "      <th>SR_Flag</th>\n",
       "      <th>trip_duration</th>\n",
       "      <th>hour</th>\n",
       "      <th>day_of_week</th>\n",
       "    </tr>\n",
       "  </thead>\n",
       "  <tbody>\n",
       "    <tr>\n",
       "      <th>0</th>\n",
       "      <td>HV0005</td>\n",
       "      <td>B02510</td>\n",
       "      <td>2019-02-12 11:10:30</td>\n",
       "      <td>2019-02-12 11:19:14</td>\n",
       "      <td>80</td>\n",
       "      <td>112</td>\n",
       "      <td>NaN</td>\n",
       "      <td>8.733333</td>\n",
       "      <td>11</td>\n",
       "      <td>1</td>\n",
       "    </tr>\n",
       "    <tr>\n",
       "      <th>1</th>\n",
       "      <td>HV0005</td>\n",
       "      <td>B02510</td>\n",
       "      <td>2019-02-12 11:35:27</td>\n",
       "      <td>2019-02-12 11:54:29</td>\n",
       "      <td>256</td>\n",
       "      <td>125</td>\n",
       "      <td>NaN</td>\n",
       "      <td>19.033333</td>\n",
       "      <td>11</td>\n",
       "      <td>1</td>\n",
       "    </tr>\n",
       "  </tbody>\n",
       "</table>\n",
       "</div>"
      ],
      "text/plain": [
       "  hvfhs_license_num dispatching_base_num     pickup_datetime  \\\n",
       "0            HV0005               B02510 2019-02-12 11:10:30   \n",
       "1            HV0005               B02510 2019-02-12 11:35:27   \n",
       "\n",
       "     dropoff_datetime  PULocationID  DOLocationID  SR_Flag  trip_duration  \\\n",
       "0 2019-02-12 11:19:14            80           112      NaN       8.733333   \n",
       "1 2019-02-12 11:54:29           256           125      NaN      19.033333   \n",
       "\n",
       "   hour  day_of_week  \n",
       "0    11            1  \n",
       "1    11            1  "
      ]
     },
     "execution_count": 55,
     "metadata": {},
     "output_type": "execute_result"
    }
   ],
   "source": [
    "add_time_features(dataframe)\n",
    "\n",
    "dataframe.head(2)"
   ]
  },
  {
   "cell_type": "code",
   "execution_count": 56,
   "id": "1ae7eeae",
   "metadata": {},
   "outputs": [
    {
     "data": {
      "text/plain": [
       "(200000, 10)"
      ]
     },
     "execution_count": 56,
     "metadata": {},
     "output_type": "execute_result"
    }
   ],
   "source": [
    "#new two column \n",
    "dataframe.shape"
   ]
  },
  {
   "cell_type": "markdown",
   "id": "fea814d9",
   "metadata": {},
   "source": [
    "### compute_predictions : Function to compute mean trip duration and margin of error."
   ]
  },
  {
   "cell_type": "code",
   "execution_count": 57,
   "id": "07607e32",
   "metadata": {},
   "outputs": [],
   "source": [
    "def compute_predictions(dataframe, confidence_level=0.95):\n",
    "    #it calculates the mean and standard error of the 'trip_duration' column using the agg method.\n",
    "    predictions = dataframe.groupby(['PULocationID', 'DOLocationID', 'day_of_week', 'hour'])['trip_duration'].agg(['mean', 'sem'])\n",
    "    #Calculates the margin of error for each group by multiplying the standard error ('sem') by 1.96.\n",
    "    \n",
    "    # Calculate the critical value (t-score) for the given confidence level\n",
    "    t_score = t.ppf((1 + confidence_level) / 2, dataframe['trip_duration'].count() - 1)\n",
    "\n",
    "    # Calculate the margin of error\n",
    "    predictions['margin_of_error'] = t_score * predictions['sem']\n",
    "    return predictions\n",
    "\n",
    "def compute_predictions(dataframe, confidence_level=0.95):\n",
    "\n",
    "    # Calculate the critical value (t-score) for the given confidence level\n",
    "    t_score = t.ppf((1 + confidence_level) / 2, predictions['trip_duration'].count() - 1)\n",
    "\n",
    "\n",
    "    return predictions"
   ]
  },
  {
   "cell_type": "markdown",
   "id": "5451a0b6",
   "metadata": {},
   "source": [
    "### generate_predictions : Function to read data file and generate predictions dataframe"
   ]
  },
  {
   "cell_type": "code",
   "execution_count": 58,
   "id": "b321fbe8",
   "metadata": {},
   "outputs": [],
   "source": [
    "def generate_predictions(file_path):\n",
    "    taxi_data = pd.read_csv(file_path)\n",
    "    taxi_data = compute_trip_duration(taxi_data)\n",
    "    taxi_data = time_features(taxi_data)\n",
    "    predictions = compute_predictions(taxi_data)\n",
    "    return predictions\n"
   ]
  },
  {
   "cell_type": "code",
   "execution_count": 59,
   "id": "7d9dd7da",
   "metadata": {},
   "outputs": [
    {
     "data": {
      "text/html": [
       "<div>\n",
       "<style scoped>\n",
       "    .dataframe tbody tr th:only-of-type {\n",
       "        vertical-align: middle;\n",
       "    }\n",
       "\n",
       "    .dataframe tbody tr th {\n",
       "        vertical-align: top;\n",
       "    }\n",
       "\n",
       "    .dataframe thead th {\n",
       "        text-align: right;\n",
       "    }\n",
       "</style>\n",
       "<table border=\"1\" class=\"dataframe\">\n",
       "  <thead>\n",
       "    <tr style=\"text-align: right;\">\n",
       "      <th></th>\n",
       "      <th></th>\n",
       "      <th></th>\n",
       "      <th></th>\n",
       "      <th>mean</th>\n",
       "      <th>sem</th>\n",
       "      <th>margin_of_error</th>\n",
       "    </tr>\n",
       "    <tr>\n",
       "      <th>PULocationID</th>\n",
       "      <th>DOLocationID</th>\n",
       "      <th>day_of_week</th>\n",
       "      <th>hour</th>\n",
       "      <th></th>\n",
       "      <th></th>\n",
       "      <th></th>\n",
       "    </tr>\n",
       "  </thead>\n",
       "  <tbody>\n",
       "    <tr>\n",
       "      <th rowspan=\"5\" valign=\"top\">1</th>\n",
       "      <th>1</th>\n",
       "      <th>4</th>\n",
       "      <th>6</th>\n",
       "      <td>26.966667</td>\n",
       "      <td>NaN</td>\n",
       "      <td>NaN</td>\n",
       "    </tr>\n",
       "    <tr>\n",
       "      <th>24</th>\n",
       "      <th>3</th>\n",
       "      <th>1</th>\n",
       "      <td>42.733333</td>\n",
       "      <td>NaN</td>\n",
       "      <td>NaN</td>\n",
       "    </tr>\n",
       "    <tr>\n",
       "      <th>79</th>\n",
       "      <th>1</th>\n",
       "      <th>10</th>\n",
       "      <td>54.933333</td>\n",
       "      <td>NaN</td>\n",
       "      <td>NaN</td>\n",
       "    </tr>\n",
       "    <tr>\n",
       "      <th>107</th>\n",
       "      <th>6</th>\n",
       "      <th>20</th>\n",
       "      <td>40.133333</td>\n",
       "      <td>NaN</td>\n",
       "      <td>NaN</td>\n",
       "    </tr>\n",
       "    <tr>\n",
       "      <th>137</th>\n",
       "      <th>2</th>\n",
       "      <th>19</th>\n",
       "      <td>43.816667</td>\n",
       "      <td>NaN</td>\n",
       "      <td>NaN</td>\n",
       "    </tr>\n",
       "    <tr>\n",
       "      <th>...</th>\n",
       "      <th>...</th>\n",
       "      <th>...</th>\n",
       "      <th>...</th>\n",
       "      <td>...</td>\n",
       "      <td>...</td>\n",
       "      <td>...</td>\n",
       "    </tr>\n",
       "    <tr>\n",
       "      <th rowspan=\"5\" valign=\"top\">265</th>\n",
       "      <th rowspan=\"5\" valign=\"top\">265</th>\n",
       "      <th rowspan=\"3\" valign=\"top\">2</th>\n",
       "      <th>17</th>\n",
       "      <td>0.983333</td>\n",
       "      <td>0.033333</td>\n",
       "      <td>0.065333</td>\n",
       "    </tr>\n",
       "    <tr>\n",
       "      <th>20</th>\n",
       "      <td>10.433333</td>\n",
       "      <td>NaN</td>\n",
       "      <td>NaN</td>\n",
       "    </tr>\n",
       "    <tr>\n",
       "      <th>23</th>\n",
       "      <td>8.941667</td>\n",
       "      <td>4.208333</td>\n",
       "      <td>8.248333</td>\n",
       "    </tr>\n",
       "    <tr>\n",
       "      <th>4</th>\n",
       "      <th>13</th>\n",
       "      <td>12.216667</td>\n",
       "      <td>NaN</td>\n",
       "      <td>NaN</td>\n",
       "    </tr>\n",
       "    <tr>\n",
       "      <th>5</th>\n",
       "      <th>17</th>\n",
       "      <td>2.400000</td>\n",
       "      <td>NaN</td>\n",
       "      <td>NaN</td>\n",
       "    </tr>\n",
       "  </tbody>\n",
       "</table>\n",
       "<p>113483 rows × 3 columns</p>\n",
       "</div>"
      ],
      "text/plain": [
       "                                                 mean       sem  \\\n",
       "PULocationID DOLocationID day_of_week hour                        \n",
       "1            1            4           6     26.966667       NaN   \n",
       "             24           3           1     42.733333       NaN   \n",
       "             79           1           10    54.933333       NaN   \n",
       "             107          6           20    40.133333       NaN   \n",
       "             137          2           19    43.816667       NaN   \n",
       "...                                               ...       ...   \n",
       "265          265          2           17     0.983333  0.033333   \n",
       "                                      20    10.433333       NaN   \n",
       "                                      23     8.941667  4.208333   \n",
       "                          4           13    12.216667       NaN   \n",
       "                          5           17     2.400000       NaN   \n",
       "\n",
       "                                            margin_of_error  \n",
       "PULocationID DOLocationID day_of_week hour                   \n",
       "1            1            4           6                 NaN  \n",
       "             24           3           1                 NaN  \n",
       "             79           1           10                NaN  \n",
       "             107          6           20                NaN  \n",
       "             137          2           19                NaN  \n",
       "...                                                     ...  \n",
       "265          265          2           17           0.065333  \n",
       "                                      20                NaN  \n",
       "                                      23           8.248333  \n",
       "                          4           13                NaN  \n",
       "                          5           17                NaN  \n",
       "\n",
       "[113483 rows x 3 columns]"
      ]
     },
     "execution_count": 59,
     "metadata": {},
     "output_type": "execute_result"
    }
   ],
   "source": [
    "generate_predictions(file_path)"
   ]
  },
  {
   "cell_type": "code",
   "execution_count": null,
   "id": "7e275671",
   "metadata": {},
   "outputs": [],
   "source": []
  }
 ],
 "metadata": {
  "kernelspec": {
   "display_name": "Python 3 (ipykernel)",
   "language": "python",
   "name": "python3"
  },
  "language_info": {
   "codemirror_mode": {
    "name": "ipython",
    "version": 3
   },
   "file_extension": ".py",
   "mimetype": "text/x-python",
   "name": "python",
   "nbconvert_exporter": "python",
   "pygments_lexer": "ipython3",
   "version": "3.11.5"
  }
 },
 "nbformat": 4,
 "nbformat_minor": 5
}
